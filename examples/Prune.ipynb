{
 "cells": [
  {
   "cell_type": "code",
   "execution_count": 4,
   "metadata": {},
   "outputs": [],
   "source": [
    "from sklearn.datasets import load_breast_cancer as load_data\n",
    "from sklearn.tree import DecisionTreeClassifier\n",
    "\n",
    "from treeviz import TreeViz\n",
    "\n",
    "\n",
    "# Breast cancer dataset\n",
    "clf = DecisionTreeClassifier(random_state=0, min_samples_leaf=5)\n",
    "data = load_data()\n",
    "clf.fit(data.data, data.target)\n",
    "\n",
    "# TreeViz\n",
    "tv = TreeViz(clf, feature_names=data.feature_names)\n",
    "\n",
    "# Raw tree\n",
    "tv.write_png(\"img/unpruned.png\")"
   ]
  },
  {
   "cell_type": "markdown",
   "metadata": {},
   "source": [
    "![title](img/unpruned.png)"
   ]
  },
  {
   "cell_type": "code",
   "execution_count": 6,
   "metadata": {},
   "outputs": [],
   "source": [
    "# Prune and write\n",
    "tv.prune().write_png(\"img/pruned.png\")"
   ]
  },
  {
   "cell_type": "markdown",
   "metadata": {},
   "source": [
    "![title](img/pruned.png)"
   ]
  },
  {
   "cell_type": "code",
   "execution_count": null,
   "metadata": {},
   "outputs": [],
   "source": []
  }
 ],
 "metadata": {
  "kernelspec": {
   "display_name": "treeviz_example",
   "language": "python",
   "name": "treeviz_example"
  },
  "language_info": {
   "codemirror_mode": {
    "name": "ipython",
    "version": 3
   },
   "file_extension": ".py",
   "mimetype": "text/x-python",
   "name": "python",
   "nbconvert_exporter": "python",
   "pygments_lexer": "ipython3",
   "version": "3.7.9"
  }
 },
 "nbformat": 4,
 "nbformat_minor": 4
}
